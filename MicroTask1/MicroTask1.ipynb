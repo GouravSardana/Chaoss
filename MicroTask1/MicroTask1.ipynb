{
 "cells": [
  {
   "cell_type": "code",
   "execution_count": 1,
   "metadata": {},
   "outputs": [],
   "source": [
    "from perceval.backends.core.git import Git\n",
    "import elasticsearch\n",
    "import elasticsearch_dsl\n",
    "import matplotlib.pyplot as plt\n",
    "import pandas as pd"
   ]
  },
  {
   "cell_type": "markdown",
   "metadata": {},
   "source": [
    "Run the following command on terminal to load the elastic search with raw and enriched indices.\n",
    "\n",
    "p2o.py --enrich --index git_raw --index-enrich git_enriched -e http://localhost:9200 --no_inc --debug git https://github.com/grimoirelab/perceval.git\n",
    "\n",
    "As per the microTask given, only enriched index is used here"
   ]
  },
  {
   "cell_type": "code",
   "execution_count": 2,
   "metadata": {},
   "outputs": [],
   "source": [
    "es = elasticsearch.Elasticsearch(['http://localhost:9200/'])"
   ]
  },
  {
   "cell_type": "code",
   "execution_count": 3,
   "metadata": {},
   "outputs": [],
   "source": [
    "s = elasticsearch_dsl.Search(using=es, index='git_enriched')"
   ]
  },
  {
   "cell_type": "markdown",
   "metadata": {},
   "source": [
    "Get only the fields required using elasticsearch_dsl"
   ]
  },
  {
   "cell_type": "code",
   "execution_count": 4,
   "metadata": {},
   "outputs": [],
   "source": [
    "request = s.source(['hash', 'commit_date', 'author_name'])\n"
   ]
  },
  {
   "cell_type": "code",
   "execution_count": 5,
   "metadata": {},
   "outputs": [],
   "source": [
    "result = request.execute()"
   ]
  },
  {
   "cell_type": "markdown",
   "metadata": {},
   "source": [
    "#### For load optimization and other reasons, the result obtained here has just 10 records. To obtain all the the records the following step is done "
   ]
  },
  {
   "cell_type": "code",
   "execution_count": 6,
   "metadata": {},
   "outputs": [],
   "source": [
    "result.hits.total\n",
    "request = request[0:result.hits.total]\n",
    "result = request.execute()"
   ]
  },
  {
   "cell_type": "code",
   "execution_count": 7,
   "metadata": {},
   "outputs": [
    {
     "data": {
      "text/plain": [
       "1016"
      ]
     },
     "execution_count": 7,
     "metadata": {},
     "output_type": "execute_result"
    }
   ],
   "source": [
    "len(result)"
   ]
  },
  {
   "cell_type": "code",
   "execution_count": 8,
   "metadata": {},
   "outputs": [],
   "source": [
    "result = result.hits.hits"
   ]
  },
  {
   "cell_type": "code",
   "execution_count": 9,
   "metadata": {},
   "outputs": [
    {
     "data": {
      "text/plain": [
       "{'_id': 'f3891cdcee5caa65add370ccb83ff7066edbe5be',\n",
       " '_index': 'git_enriched',\n",
       " '_score': 1.0,\n",
       " '_source': {'author_name': 'Santiago Dueñas',\n",
       "  'commit_date': '2015-11-18T14:41:17',\n",
       "  'hash': 'b0f6eb81d9b1dc5f77dce9954744016dfbb3cb4a'},\n",
       " '_type': 'items'}"
      ]
     },
     "execution_count": 9,
     "metadata": {},
     "output_type": "execute_result"
    }
   ],
   "source": [
    "result[0]"
   ]
  },
  {
   "cell_type": "markdown",
   "metadata": {},
   "source": [
    "#### Algorithm :\n",
    "Use two dictionaries, one (dictionary of authors to total commits) for keeping track of new authors with their total commits to the repository.\n",
    "And another(dictionary of months to authors and commit numbers), for keeping track of every month a commit was made with the authors who are new and the number of commits they made in that month.\n",
    "\n",
    "Check if month is present in the dictionary of months to authors and commit numbers if month is present. Then check if author is present in the same dictionary, if present then increase his commit count in that month. Else if he is not present, then check if he is a new author, if yes, then add him in the dictionary. \n",
    "Eitherways, increase commit count of author in the dictionary of authors to their total commit count."
   ]
  },
  {
   "cell_type": "code",
   "execution_count": 10,
   "metadata": {
    "scrolled": false
   },
   "outputs": [],
   "source": [
    "#all authors with their commit count\n",
    "authors = {}\n",
    "\n",
    "#new committers every month\n",
    "new_authors_per_month = {}\n",
    "\n",
    "for commit in result:\n",
    "\n",
    "    #extract commit date\n",
    "    date = commit['_source']['commit_date'].split('-')\n",
    "    #Extract just month and year\n",
    "    month = date[1]+' '+date[0]\n",
    "    #extract author\n",
    "    author = commit['_source']['author_name']\n",
    "\n",
    "    if month in new_authors_per_month :\n",
    "        if author in new_authors_per_month[month] :\n",
    "            new_authors_per_month[month][author] = new_authors_per_month[month][author] + 1\n",
    "        elif author not in authors and author not in new_authors_per_month[month]:\n",
    "            new_authors_per_month[month][author] = 1\n",
    "    else:\n",
    "        if author not in authors:\n",
    "            new_authors_per_month[month]= {author : 1}\n",
    "\n",
    "    if author in authors :\n",
    "        authors[author] = authors[author] + 1\n",
    "    else :\n",
    "        authors[author] = 1\n",
    "    "
   ]
  },
  {
   "cell_type": "code",
   "execution_count": 11,
   "metadata": {},
   "outputs": [
    {
     "data": {
      "text/plain": [
       "{'01 2016': {'Jesus M. Gonzalez-Barahona': 3},\n",
       " '01 2017': {'Stephan Barth': 1},\n",
       " '01 2018': {'Israel Herraiz': 1},\n",
       " '02 2016': {'Alberto Martín': 26},\n",
       " '02 2018': {'Miguel Ángel Fernández': 3},\n",
       " '03 2016': {'camillem': 2},\n",
       " '05 2016': {'quan': 3},\n",
       " '06 2016': {'J. Manrique Lopez de la Fuente': 1},\n",
       " '09 2016': {'Luis Cañas Díaz': 1},\n",
       " '09 2017': {'Valerio Cosentino': 5, 'valerio cosentino': 6},\n",
       " '10 2017': {'valerio': 2},\n",
       " '11 2015': {'Santiago Dueñas': 23},\n",
       " '11 2017': {'David Esler': 1, 'David Pose Fernández': 1},\n",
       " '12 2015': {'Alvaro del Castillo': 3},\n",
       " '12 2017': {'david': 1}}"
      ]
     },
     "execution_count": 11,
     "metadata": {},
     "output_type": "execute_result"
    }
   ],
   "source": [
    "new_authors_per_month"
   ]
  },
  {
   "cell_type": "code",
   "execution_count": 12,
   "metadata": {},
   "outputs": [
    {
     "data": {
      "text/plain": [
       "{'Alberto Martín': 51,\n",
       " 'Alvaro del Castillo': 45,\n",
       " 'David Esler': 1,\n",
       " 'David Pose Fernández': 1,\n",
       " 'Israel Herraiz': 1,\n",
       " 'J. Manrique Lopez de la Fuente': 1,\n",
       " 'Jesus M. Gonzalez-Barahona': 18,\n",
       " 'Luis Cañas Díaz': 1,\n",
       " 'Miguel Ángel Fernández': 3,\n",
       " 'Santiago Dueñas': 708,\n",
       " 'Stephan Barth': 1,\n",
       " 'Valerio Cosentino': 169,\n",
       " 'camillem': 2,\n",
       " 'david': 1,\n",
       " 'quan': 5,\n",
       " 'valerio': 2,\n",
       " 'valerio cosentino': 6}"
      ]
     },
     "execution_count": 12,
     "metadata": {},
     "output_type": "execute_result"
    }
   ],
   "source": [
    "authors"
   ]
  },
  {
   "cell_type": "code",
   "execution_count": 13,
   "metadata": {},
   "outputs": [],
   "source": [
    "custom_table = []\n",
    "for each_month in new_authors_per_month:\n",
    "    table = {}\n",
    "    for author in new_authors_per_month[each_month] :\n",
    "        table['Month<Month Year>'] = each_month\n",
    "        table['Author'] = author\n",
    "        table['No of commits in that month'] = new_authors_per_month[each_month][author]\n",
    "        table['Total commits by author'] = authors[author]\n",
    "    custom_table.append(table)"
   ]
  },
  {
   "cell_type": "code",
   "execution_count": 14,
   "metadata": {},
   "outputs": [],
   "source": [
    "df = pd.DataFrame.from_records(custom_table)"
   ]
  },
  {
   "cell_type": "code",
   "execution_count": 15,
   "metadata": {},
   "outputs": [
    {
     "data": {
      "text/html": [
       "<div>\n",
       "<table border=\"1\" class=\"dataframe\">\n",
       "  <thead>\n",
       "    <tr style=\"text-align: right;\">\n",
       "      <th></th>\n",
       "      <th>Author</th>\n",
       "      <th>Month&lt;Month Year&gt;</th>\n",
       "      <th>No of commits in that month</th>\n",
       "      <th>Total commits by author</th>\n",
       "    </tr>\n",
       "  </thead>\n",
       "  <tbody>\n",
       "    <tr>\n",
       "      <th>0</th>\n",
       "      <td>Santiago Dueñas</td>\n",
       "      <td>11 2015</td>\n",
       "      <td>23</td>\n",
       "      <td>708</td>\n",
       "    </tr>\n",
       "    <tr>\n",
       "      <th>1</th>\n",
       "      <td>Alvaro del Castillo</td>\n",
       "      <td>12 2015</td>\n",
       "      <td>3</td>\n",
       "      <td>45</td>\n",
       "    </tr>\n",
       "    <tr>\n",
       "      <th>2</th>\n",
       "      <td>Jesus M. Gonzalez-Barahona</td>\n",
       "      <td>01 2016</td>\n",
       "      <td>3</td>\n",
       "      <td>18</td>\n",
       "    </tr>\n",
       "    <tr>\n",
       "      <th>3</th>\n",
       "      <td>Alberto Martín</td>\n",
       "      <td>02 2016</td>\n",
       "      <td>26</td>\n",
       "      <td>51</td>\n",
       "    </tr>\n",
       "    <tr>\n",
       "      <th>4</th>\n",
       "      <td>quan</td>\n",
       "      <td>05 2016</td>\n",
       "      <td>3</td>\n",
       "      <td>5</td>\n",
       "    </tr>\n",
       "    <tr>\n",
       "      <th>5</th>\n",
       "      <td>Luis Cañas Díaz</td>\n",
       "      <td>09 2016</td>\n",
       "      <td>1</td>\n",
       "      <td>1</td>\n",
       "    </tr>\n",
       "    <tr>\n",
       "      <th>6</th>\n",
       "      <td>Valerio Cosentino</td>\n",
       "      <td>09 2017</td>\n",
       "      <td>5</td>\n",
       "      <td>169</td>\n",
       "    </tr>\n",
       "    <tr>\n",
       "      <th>7</th>\n",
       "      <td>Miguel Ángel Fernández</td>\n",
       "      <td>02 2018</td>\n",
       "      <td>3</td>\n",
       "      <td>3</td>\n",
       "    </tr>\n",
       "    <tr>\n",
       "      <th>8</th>\n",
       "      <td>camillem</td>\n",
       "      <td>03 2016</td>\n",
       "      <td>2</td>\n",
       "      <td>2</td>\n",
       "    </tr>\n",
       "    <tr>\n",
       "      <th>9</th>\n",
       "      <td>valerio</td>\n",
       "      <td>10 2017</td>\n",
       "      <td>2</td>\n",
       "      <td>2</td>\n",
       "    </tr>\n",
       "    <tr>\n",
       "      <th>10</th>\n",
       "      <td>Israel Herraiz</td>\n",
       "      <td>01 2018</td>\n",
       "      <td>1</td>\n",
       "      <td>1</td>\n",
       "    </tr>\n",
       "    <tr>\n",
       "      <th>11</th>\n",
       "      <td>David Esler</td>\n",
       "      <td>11 2017</td>\n",
       "      <td>1</td>\n",
       "      <td>1</td>\n",
       "    </tr>\n",
       "    <tr>\n",
       "      <th>12</th>\n",
       "      <td>J. Manrique Lopez de la Fuente</td>\n",
       "      <td>06 2016</td>\n",
       "      <td>1</td>\n",
       "      <td>1</td>\n",
       "    </tr>\n",
       "    <tr>\n",
       "      <th>13</th>\n",
       "      <td>Stephan Barth</td>\n",
       "      <td>01 2017</td>\n",
       "      <td>1</td>\n",
       "      <td>1</td>\n",
       "    </tr>\n",
       "    <tr>\n",
       "      <th>14</th>\n",
       "      <td>david</td>\n",
       "      <td>12 2017</td>\n",
       "      <td>1</td>\n",
       "      <td>1</td>\n",
       "    </tr>\n",
       "  </tbody>\n",
       "</table>\n",
       "</div>"
      ],
      "text/plain": [
       "                            Author Month<Month Year>  \\\n",
       "0                  Santiago Dueñas           11 2015   \n",
       "1              Alvaro del Castillo           12 2015   \n",
       "2       Jesus M. Gonzalez-Barahona           01 2016   \n",
       "3                   Alberto Martín           02 2016   \n",
       "4                             quan           05 2016   \n",
       "5                  Luis Cañas Díaz           09 2016   \n",
       "6                Valerio Cosentino           09 2017   \n",
       "7           Miguel Ángel Fernández           02 2018   \n",
       "8                         camillem           03 2016   \n",
       "9                          valerio           10 2017   \n",
       "10                  Israel Herraiz           01 2018   \n",
       "11                     David Esler           11 2017   \n",
       "12  J. Manrique Lopez de la Fuente           06 2016   \n",
       "13                   Stephan Barth           01 2017   \n",
       "14                           david           12 2017   \n",
       "\n",
       "    No of commits in that month  Total commits by author  \n",
       "0                            23                      708  \n",
       "1                             3                       45  \n",
       "2                             3                       18  \n",
       "3                            26                       51  \n",
       "4                             3                        5  \n",
       "5                             1                        1  \n",
       "6                             5                      169  \n",
       "7                             3                        3  \n",
       "8                             2                        2  \n",
       "9                             2                        2  \n",
       "10                            1                        1  \n",
       "11                            1                        1  \n",
       "12                            1                        1  \n",
       "13                            1                        1  \n",
       "14                            1                        1  "
      ]
     },
     "metadata": {},
     "output_type": "display_data"
    }
   ],
   "source": [
    "display(df)"
   ]
  },
  {
   "cell_type": "code",
   "execution_count": 16,
   "metadata": {},
   "outputs": [],
   "source": [
    "df.to_csv('New authors.csv')"
   ]
  }
 ],
 "metadata": {
  "kernelspec": {
   "display_name": "Python 3",
   "language": "python",
   "name": "python3"
  },
  "language_info": {
   "codemirror_mode": {
    "name": "ipython",
    "version": 3
   },
   "file_extension": ".py",
   "mimetype": "text/x-python",
   "name": "python",
   "nbconvert_exporter": "python",
   "pygments_lexer": "ipython3",
   "version": "3.6.4"
  }
 },
 "nbformat": 4,
 "nbformat_minor": 2
}
